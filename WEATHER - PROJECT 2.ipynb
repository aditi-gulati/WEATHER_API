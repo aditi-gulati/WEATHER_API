{
 "cells": [
  {
   "cell_type": "markdown",
   "id": "f1d28afe",
   "metadata": {},
   "source": [
    "# WEATHER "
   ]
  },
  {
   "cell_type": "code",
   "execution_count": 4,
   "id": "10d26110",
   "metadata": {},
   "outputs": [
    {
     "name": "stdout",
     "output_type": "stream",
     "text": [
      "Enter City : OTTAWA\n",
      "Searching...\n",
      "\n",
      "Temperature in OTTAWA is: Winter Storm Warning\n",
      "Environment and Climate Change Canada\n",
      "-23°C\n",
      "Have a Nice Day:)\n"
     ]
    }
   ],
   "source": [
    "import requests\n",
    "from bs4 import BeautifulSoup\n",
    "\n",
    "# Taking City You Want to Check Temperaature\n",
    "city = input(\"Enter City : \")\n",
    "# Storing City You Want to Check Temperaature\n",
    "search = \"weather in\" + city\n",
    "# Searching it on google\n",
    "url = f\"https://www.google.com/search?&q={search}\"\n",
    "print(\"Searching...\\n\")\n",
    "# Sending and Receiving Requests\n",
    "r = requests.get(url)\n",
    "# Scraping Details\n",
    "s = BeautifulSoup(r.text, \"html.parser\")\n",
    "# Storing Details\n",
    "update = s.find(\"div\", class_=\"BNeawe\").text\n",
    "# Printing Details\n",
    "print(\"Temperature in \" + city + \" is: \" + update)\n",
    "print(\"Have a Nice Day:)\")"
   ]
  },
  {
   "cell_type": "code",
   "execution_count": null,
   "id": "9e0cfd31",
   "metadata": {},
   "outputs": [],
   "source": []
  }
 ],
 "metadata": {
  "kernelspec": {
   "display_name": "Python 3 (ipykernel)",
   "language": "python",
   "name": "python3"
  },
  "language_info": {
   "codemirror_mode": {
    "name": "ipython",
    "version": 3
   },
   "file_extension": ".py",
   "mimetype": "text/x-python",
   "name": "python",
   "nbconvert_exporter": "python",
   "pygments_lexer": "ipython3",
   "version": "3.10.1"
  }
 },
 "nbformat": 4,
 "nbformat_minor": 5
}
